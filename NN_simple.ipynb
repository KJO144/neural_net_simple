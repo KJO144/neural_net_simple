{
 "cells": [
  {
   "cell_type": "markdown",
   "metadata": {},
   "source": [
    "### Generate some dummy data and fix neural net architecture"
   ]
  },
  {
   "cell_type": "code",
   "execution_count": 1,
   "metadata": {},
   "outputs": [],
   "source": [
    "import numpy as np\n",
    "np.random.seed(0)\n",
    "\n",
    "m = 5  # number of training examples\n",
    "n_x = 2 # number of features\n",
    "n_y = 1 \n",
    "layer_dims = [ 5, 2, n_y ]\n",
    "activation_functions = ['relu', 'relu', 'sigmoid']\n",
    "\n",
    "learning_rate = 0.1\n",
    "X = np.random.rand(n_x, m)\n",
    "Y = np.random.rand(n_y, m)\n"
   ]
  },
  {
   "cell_type": "markdown",
   "metadata": {},
   "source": [
    "### Learn the parameters"
   ]
  },
  {
   "cell_type": "code",
   "execution_count": 2,
   "metadata": {},
   "outputs": [
    {
     "data": {
      "text/plain": [
       "0.5594831590697362"
      ]
     },
     "execution_count": 2,
     "metadata": {},
     "output_type": "execute_result"
    }
   ],
   "source": [
    "from simple import *\n",
    "num_epochs = 2000\n",
    "params, final_cost = learn_params(X, Y, layer_dims, activation_functions, learning_rate, num_epochs)\n",
    "final_cost"
   ]
  },
  {
   "cell_type": "markdown",
   "metadata": {},
   "source": [
    "#### Now we will compute (1) the loss for one forward pass through the model and (2) the gradients of the loss wrt the model parameters.\n",
    "\n",
    "#### We confirm that similar calculations in tensorflow and pytorch yield the same results"
   ]
  },
  {
   "cell_type": "code",
   "execution_count": 9,
   "metadata": {},
   "outputs": [],
   "source": [
    " \n",
    "from simple_external import *\n",
    "\n",
    "# run one forward and backward pass to compute the loss and gradients\n",
    "params = initialize_params(n_x, layer_dims)\n",
    "AL, cache = forward_prop(X, params, activation_functions)\n",
    "loss = compute_cost(Y,AL)\n",
    "grads = compute_grads(AL, params, cache, X, Y)\n",
    "\n",
    "# calculate loss and grads with tensorflow\n",
    "tf_loss_tensor, tf_grads_tensors, x_ph, y_ph = loss_and_grads_from_tf(X, Y, params, layer_dims, activation_functions )\n",
    "tf_loss, tf_grads = calculate_loss_and_grads_tf(X, Y, x_ph, y_ph, tf_loss_tensor, tf_grads_tensors)\n",
    "\n",
    "# calculate loss and grads with pytorch (we call with 1 epoch and zero learning rate)\n",
    "pytorch_loss, pytorch_tensor_params = calculate_loss_and_grads_pytorch(X, Y, params, activation_functions, 1, 0)\n",
    "pytorch_grads = {name: value.grad for name,value in pytorch_tensor_params.items()}\n",
    "\n",
    "# assert that the tf loss and gradients match my own ones\n",
    "np.testing.assert_array_almost_equal(loss, tf_loss)\n",
    "np.testing.assert_array_almost_equal(loss, pytorch_loss)\n",
    "\n",
    "for param_name in grads.keys():\n",
    "    np.testing.assert_array_almost_equal(grads[param_name], tf_grads[param_name])\n",
    "    np.testing.assert_array_almost_equal(grads[param_name], pytorch_grads[param_name])\n"
   ]
  },
  {
   "cell_type": "code",
   "execution_count": null,
   "metadata": {},
   "outputs": [],
   "source": [
    "\n",
    "#optimizer = tf.train.AdamOptimizer(learning_rate=learning_rate).minimize(tf_loss_tensor)\n",
    "optimizer = tf.train.GradientDescentOptimizer(learning_rate).minimize(tf_loss_tensor)\n",
    "\n",
    "with tf.Session() as sess:\n",
    "    sess.run(tf.global_variables_initializer())\n",
    "\n",
    "    for i in range(num_epochs):\n",
    "        _ , tf_loss = sess.run([optimizer, tf_loss_tensor], feed_dict={x_ph: X, y_ph: Y})\n",
    "        if i%100 is 0:\n",
    "            print( tf_loss )\n"
   ]
  },
  {
   "cell_type": "code",
   "execution_count": null,
   "metadata": {},
   "outputs": [],
   "source": []
  }
 ],
 "metadata": {
  "kernelspec": {
   "display_name": "Python 3",
   "language": "python",
   "name": "python3"
  },
  "language_info": {
   "codemirror_mode": {
    "name": "ipython",
    "version": 3
   },
   "file_extension": ".py",
   "mimetype": "text/x-python",
   "name": "python",
   "nbconvert_exporter": "python",
   "pygments_lexer": "ipython3",
   "version": "3.6.8"
  }
 },
 "nbformat": 4,
 "nbformat_minor": 2
}
